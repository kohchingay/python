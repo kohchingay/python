<html>
{
  "nbformat": 4,
  "nbformat_minor": 0,
  "metadata": {
    "colab": {
      "provenance": [],
      "authorship_tag": "ABX9TyOa0pVM5lBrhgfXt/qxP9El",
      "include_colab_link": true
    },
    "kernelspec": {
      "name": "python3",
      "display_name": "Python 3"
    },
    "language_info": {
      "name": "python"
    }
  },
  "cells": [
    {
      "cell_type": "markdown",
      "metadata": {
        "id": "view-in-github",
        "colab_type": "text"
      },
      "source": [
        "<a href=\"https://colab.research.google.com/github/kohchingay/python/blob/main/factorial.ipynb\" target=\"_parent\"><img src=\"https://colab.research.google.com/assets/colab-badge.svg\" alt=\"Open In Colab\"/></a>"
      ]
    },
    {
      "cell_type": "code",
      "execution_count": 1,
      "metadata": {
        "colab": {
          "base_uri": "https://localhost:8080/"
        },
        "id": "Fy_JSqcJUsBE",
        "outputId": "54e211c6-baae-404e-f66b-d10cd7ff8573"
      },
      "outputs": [
        {
          "output_type": "stream",
          "name": "stdout",
          "text": [
            "Enter an integer:30\n",
            "870\n",
            "24360\n",
            "657720\n",
            "17100720\n",
            "427518000\n",
            "10260432000\n",
            "235989936000\n",
            "5191778592000\n",
            "109027350432000\n",
            "2180547008640000\n",
            "41430393164160000\n",
            "745747076954880000\n",
            "12677700308232960000\n",
            "202843204931727360000\n",
            "3042648073975910400000\n",
            "42597073035662745600000\n",
            "553761949463615692800000\n",
            "6645143393563388313600000\n",
            "73096577329197271449600000\n",
            "730965773291972714496000000\n",
            "6578691959627754430464000000\n",
            "52629535677022035443712000000\n",
            "368406749739154248105984000000\n",
            "2210440498434925488635904000000\n",
            "11052202492174627443179520000000\n",
            "44208809968698509772718080000000\n",
            "132626429906095529318154240000000\n",
            "265252859812191058636308480000000\n",
            "\n",
            "The factorial of 30 is 265252859812191058636308480000000.\n"
          ]
        }
      ],
      "source": [
        "def factorial():\n",
        "    n = int(input(\"Enter an integer:\"))\n",
        "    initial=n\n",
        "    result=n\n",
        "    for i in range(n-2):\n",
        "        result=result*(n-1)\n",
        "        n-=1\n",
        "        print(result)\n",
        "    print(f\"\\nThe factorial of {initial} is {result}.\")\n",
        "\n",
        "factorial()"
      ]
    }
  ]
}
</html>
